{
 "cells": [
  {
   "cell_type": "code",
   "execution_count": 2,
   "metadata": {},
   "outputs": [],
   "source": [
    "#import libraries\n",
    "import numpy as np\n",
    "import pandas as pd\n",
    "\n",
    "import matplotlib.pyplot as plt\n",
    "\n",
    "from keras.datasets import mnist\n",
    "from keras.layers import Dense\n",
    "from keras.layers import Activation\n",
    "from keras.layers import Dropout\n",
    "from keras.models import Sequential\n",
    "from keras.utils import np_utils\n",
    "\n",
    "from sklearn.metrics import confusion_matrix"
   ]
  },
  {
   "cell_type": "code",
   "execution_count": 3,
   "metadata": {},
   "outputs": [
    {
     "name": "stdout",
     "output_type": "stream",
     "text": [
      "Downloading data from https://s3.amazonaws.com/img-datasets/mnist.npz\n",
      "11493376/11490434 [==============================] - 2s 0us/step\n",
      "(28, 28)\n"
     ]
    }
   ],
   "source": [
    "(X_train, Y_train), (X_test, Y_test) = mnist.load_data()\n",
    "\n",
    "print(X_train[0].shape)"
   ]
  },
  {
   "cell_type": "code",
   "execution_count": 6,
   "metadata": {},
   "outputs": [
    {
     "data": {
      "image/png": "[encoded data removed]",
      "text/plain": [
       "<Figure size 432x288 with 2 Axes>"
      ]
     },
     "metadata": {
      "needs_background": "light"
     },
     "output_type": "display_data"
    }
   ],
   "source": [
    "# Display first image in test data\n",
    "plt.subplot(121)\n",
    "plt.imshow(X_train[0,:,:], cmap='gray')\n",
    "plt.title(\"Ground Truth : {}\".format(Y_train[0]))\n",
    "# Display first image in test data\n",
    "plt.subplot(122)\n",
    "plt.imshow(X_test[0,:,:], cmap='gray')\n",
    "plt.title(\"Ground Truth : {}\".format(Y_test[0]))\n",
    "plt.show()"
   ]
  },
  {
   "cell_type": "code",
   "execution_count": 12,
   "metadata": {},
   "outputs": [
    {
     "name": "stdout",
     "output_type": "stream",
     "text": [
      "(784,)\n"
     ]
    }
   ],
   "source": [
    "#Transform input image (flatten) to an array\n",
    "dims = np.prod(X_train[0].shape)\n",
    "\n",
    "x_train = X_train.reshape(X_train.shape[0], dims)\n",
    "x_test = X_test.reshape(X_test.shape[0],dims)\n",
    "\n",
    "print(x_train[0].shape)"
   ]
  },
  {
   "cell_type": "code",
   "execution_count": 13,
   "metadata": {},
   "outputs": [],
   "source": [
    "#Normalize the input data\n",
    "x_train = x_train.astype('float32')/255.0\n",
    "x_test = x_test.astype('float32')/255.0"
   ]
  },
  {
   "cell_type": "code",
   "execution_count": 14,
   "metadata": {},
   "outputs": [],
   "source": [
    "#one hot encoding of the outputs\n",
    "y_train = np_utils.to_categorical(Y_train)\n",
    "y_test = np_utils.to_categorical(Y_test)"
   ]
  },
  {
   "cell_type": "code",
   "execution_count": 15,
   "metadata": {},
   "outputs": [
    {
     "name": "stdout",
     "output_type": "stream",
     "text": [
      "Number of output classes:  10\n"
     ]
    }
   ],
   "source": [
    "#Number of classes in output\n",
    "numClasses = y_train.shape[1]\n",
    "print(\"Number of output classes: \",numClasses)"
   ]
  },
  {
   "cell_type": "code",
   "execution_count": 16,
   "metadata": {},
   "outputs": [],
   "source": [
    "#Initialize the model\n",
    "model = Sequential()\n",
    "#Create the model\n",
    "model.add(Dense(1024, activation = 'relu', input_shape=(dims,)))\n",
    "model.add(Dropout(0.3))\n",
    "model.add(Dense(512, activation = 'relu'))\n",
    "model.add(Dropout(0.25))\n",
    "model.add(Dense(128, activation = 'relu'))\n",
    "model.add(Dropout(0.25))\n",
    "model.add(Dense(numClasses, activation = 'softmax'))"
   ]
  },
  {
   "cell_type": "code",
   "execution_count": 17,
   "metadata": {},
   "outputs": [
    {
     "name": "stdout",
     "output_type": "stream",
     "text": [
      "_________________________________________________________________\n",
      "Layer (type)                 Output Shape              Param #   \n",
      "=================================================================\n",
      "dense_1 (Dense)              (None, 1024)              803840    \n",
      "_________________________________________________________________\n",
      "dropout_1 (Dropout)          (None, 1024)              0         \n",
      "_________________________________________________________________\n",
      "dense_2 (Dense)              (None, 512)               524800    \n",
      "_________________________________________________________________\n",
      "dropout_2 (Dropout)          (None, 512)               0         \n",
      "_________________________________________________________________\n",
      "dense_3 (Dense)              (None, 128)               65664     \n",
      "_________________________________________________________________\n",
      "dropout_3 (Dropout)          (None, 128)               0         \n",
      "_________________________________________________________________\n",
      "dense_4 (Dense)              (None, 10)                1290      \n",
      "=================================================================\n",
      "Total params: 1,395,594\n",
      "Trainable params: 1,395,594\n",
      "Non-trainable params: 0\n",
      "_________________________________________________________________\n",
      "None\n"
     ]
    }
   ],
   "source": [
    "#Compile the model\n",
    "model.compile(optimizer = 'rmsprop', loss = 'categorical_crossentropy', metrics = ['accuracy'])\n",
    "print(model.summary())"
   ]
  },
  {
   "cell_type": "code",
   "execution_count": null,
   "metadata": {},
   "outputs": [
    {
     "name": "stdout",
     "output_type": "stream",
     "text": [
      "Train on 60000 samples, validate on 10000 samples\n",
      "Epoch 1/25\n",
      "60000/60000 [==============================] - 20s 332us/step - loss: 0.2808 - acc: 0.9138 - val_loss: 0.1147 - val_acc: 0.9660\n",
      "Epoch 2/25\n",
      "60000/60000 [==============================] - 19s 324us/step - loss: 0.1265 - acc: 0.9637 - val_loss: 0.0826 - val_acc: 0.9760\n",
      "Epoch 3/25\n",
      "60000/60000 [==============================] - 20s 329us/step - loss: 0.0974 - acc: 0.9729 - val_loss: 0.0708 - val_acc: 0.9787\n",
      "Epoch 4/25\n",
      "60000/60000 [==============================] - 19s 325us/step - loss: 0.0822 - acc: 0.9771 - val_loss: 0.0799 - val_acc: 0.9778\n",
      "Epoch 5/25\n",
      "60000/60000 [==============================] - 19s 313us/step - loss: 0.0741 - acc: 0.9797 - val_loss: 0.0859 - val_acc: 0.9797\n",
      "Epoch 6/25\n",
      "60000/60000 [==============================] - 19s 321us/step - loss: 0.0716 - acc: 0.9818 - val_loss: 0.0877 - val_acc: 0.9808\n",
      "Epoch 7/25\n",
      "60000/60000 [==============================] - 20s 330us/step - loss: 0.0651 - acc: 0.9830 - val_loss: 0.0932 - val_acc: 0.9807\n",
      "Epoch 8/25\n",
      "60000/60000 [==============================] - 20s 337us/step - loss: 0.0606 - acc: 0.9851 - val_loss: 0.1035 - val_acc: 0.9793\n",
      "Epoch 9/25\n",
      "60000/60000 [==============================] - 20s 327us/step - loss: 0.0617 - acc: 0.9849 - val_loss: 0.0851 - val_acc: 0.9828\n",
      "Epoch 10/25\n",
      "60000/60000 [==============================] - 19s 322us/step - loss: 0.0570 - acc: 0.9870 - val_loss: 0.1165 - val_acc: 0.9781\n",
      "Epoch 11/25\n",
      "60000/60000 [==============================] - 20s 327us/step - loss: 0.0548 - acc: 0.9865 - val_loss: 0.0986 - val_acc: 0.9821\n",
      "Epoch 12/25\n",
      "60000/60000 [==============================] - 19s 312us/step - loss: 0.0533 - acc: 0.9885 - val_loss: 0.1272 - val_acc: 0.9816\n",
      "Epoch 13/25\n",
      "60000/60000 [==============================] - 19s 320us/step - loss: 0.0587 - acc: 0.9877 - val_loss: 0.1052 - val_acc: 0.9818\n",
      "Epoch 14/25\n",
      "60000/60000 [==============================] - 18s 299us/step - loss: 0.0550 - acc: 0.9880 - val_loss: 0.1040 - val_acc: 0.9834\n",
      "Epoch 15/25\n",
      "60000/60000 [==============================] - 20s 329us/step - loss: 0.0554 - acc: 0.9883 - val_loss: 0.1079 - val_acc: 0.9818\n",
      "Epoch 16/25\n",
      "60000/60000 [==============================] - 19s 325us/step - loss: 0.0543 - acc: 0.9888 - val_loss: 0.1097 - val_acc: 0.9829\n",
      "Epoch 17/25\n",
      "60000/60000 [==============================] - 19s 325us/step - loss: 0.0583 - acc: 0.9887 - val_loss: 0.1152 - val_acc: 0.9848\n",
      "Epoch 18/25\n",
      "60000/60000 [==============================] - 20s 326us/step - loss: 0.0594 - acc: 0.9900 - val_loss: 0.1238 - val_acc: 0.9820\n",
      "Epoch 19/25\n",
      "60000/60000 [==============================] - 20s 328us/step - loss: 0.0565 - acc: 0.9890 - val_loss: 0.1136 - val_acc: 0.9832\n",
      "Epoch 20/25\n",
      "60000/60000 [==============================] - 20s 326us/step - loss: 0.0553 - acc: 0.9899 - val_loss: 0.1085 - val_acc: 0.9847\n",
      "Epoch 21/25\n",
      "60000/60000 [==============================] - 20s 339us/step - loss: 0.0569 - acc: 0.9901 - val_loss: 0.1183 - val_acc: 0.9843\n",
      "Epoch 22/25\n",
      "60000/60000 [==============================] - 20s 326us/step - loss: 0.0544 - acc: 0.9903 - val_loss: 0.1339 - val_acc: 0.9843\n",
      "Epoch 23/25\n",
      "60000/60000 [==============================] - 18s 301us/step - loss: 0.0590 - acc: 0.9903 - val_loss: 0.1419 - val_acc: 0.9828\n",
      "Epoch 24/25\n",
      "24192/60000 [===========>..................] - ETA: 10s - loss: 0.0520 - acc: 0.9905"
     ]
    }
   ],
   "source": [
    "#Fit the model\n",
    "model.fit(x_train, y_train, batch_size = 128, epochs = 25, verbose = 1, validation_data = (x_test, y_test))"
   ]
  },
  {
   "cell_type": "code",
   "execution_count": null,
   "metadata": {},
   "outputs": [],
   "source": [
    "scores = model.evaluate(x_test, y_test, verbose = 0)\n",
    "\n",
    "print(\"Accuracy: %0.2f%%\" % (scores[1]*100))"
   ]
  }
 ],
 "metadata": {
  "kernelspec": {
   "display_name": "Python 3",
   "language": "python",
   "name": "python3"
  },
  "language_info": {
   "codemirror_mode": {
    "name": "ipython",
    "version": 3
   },
   "file_extension": ".py",
   "mimetype": "text/x-python",
   "name": "python",
   "nbconvert_exporter": "python",
   "pygments_lexer": "ipython3",
   "version": "3.6.6"
  }
 },
 "nbformat": 4,
 "nbformat_minor": 2
}
