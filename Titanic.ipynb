{
  "cells": [
    {
      "metadata": {
        "_uuid": "8f2839f25d086af736a60e9eeb907d3b93b6e0e5",
        "_cell_guid": "b1076dfc-b9ad-4769-8c92-a6c4dae69d19",
        "trusted": true,
        "scrolled": true
      },
      "cell_type": "code",
      "source": "import os\nimport numpy as np \nimport pandas as pd \nimport matplotlib.pyplot as plt\n\nfrom sklearn.linear_model import LogisticRegression\nfrom sklearn.naive_bayes import MultinomialNB\nfrom sklearn.tree import DecisionTreeClassifier\nfrom sklearn.neighbors import KNeighborsClassifier\nfrom sklearn.ensemble import RandomForestClassifier\nfrom sklearn.ensemble import AdaBoostClassifier\n\nfrom sklearn.metrics import f1_score\nfrom sklearn.metrics import accuracy_score",
      "execution_count": null,
      "outputs": []
    },
    {
      "metadata": {
        "trusted": true,
        "_uuid": "bd29403849efcebe9120060e8074e5c7678643c4"
      },
      "cell_type": "code",
      "source": "train = pd.read_csv('../input/train.csv')\ntest = pd.read_csv('../input/test.csv')\n#print(train.shape)\n#print(test.shape)\ntrain.head()",
      "execution_count": null,
      "outputs": []
    },
    {
      "metadata": {
        "trusted": true,
        "_uuid": "d77dc5183a2577545cc108f42af1cda0a5e71973"
      },
      "cell_type": "code",
      "source": "gen_pivot = train.pivot_table(index = \"Sex\", values = \"Survived\")\nprint(gen_pivot)",
      "execution_count": null,
      "outputs": []
    },
    {
      "metadata": {
        "trusted": true,
        "_uuid": "a72db73d594f7e2ea592de0b4822f26a9745ad2c"
      },
      "cell_type": "code",
      "source": "class_pivot = train.pivot_table(index = \"Pclass\", values = \"Survived\")\nprint(class_pivot)\n'''\nclass_pivot.plot.bar()\nplt.show()\n'''",
      "execution_count": null,
      "outputs": []
    },
    {
      "metadata": {
        "trusted": true,
        "_uuid": "a88fcfb114d24026fc8b68a87c06cc75b0365b40"
      },
      "cell_type": "code",
      "source": "age_pivot = train.pivot_table(index = \"Age\", values = \"Survived\")\n\nsurvived = train[train[\"Survived\"] == 1]\ndied = train[train[\"Survived\"] == 0]\n\nsurvived[\"Age\"].plot.hist(alpha = 0.5, color = \"blue\", bins=50)\ndied[\"Age\"].plot.hist(alpha = 0.5, color = \"red\", bins = 50)\n\nplt.legend(['survived', 'died'])\nplt.show()",
      "execution_count": null,
      "outputs": []
    },
    {
      "metadata": {
        "trusted": true,
        "_uuid": "453f1a4659e08138a56a752c2f34125f5229e470"
      },
      "cell_type": "code",
      "source": "def process_age(df, cut_points, label_names):\n    df[\"Age\"] = df[\"Age\"].fillna(-1)\n    df[\"Age_categories\"] = pd.cut(df[\"Age\"], cut_points, labels = label_names)",
      "execution_count": null,
      "outputs": []
    },
    {
      "metadata": {
        "trusted": true,
        "_uuid": "79d8a5622130c488c1877ee85bc644875c47513f"
      },
      "cell_type": "code",
      "source": "cut_points = [-1,0, 5, 12, 18, 35, 60, 100]\nlabel_names = [\"Missing\", 'Infant', \"Child\", 'Teenager', \"Young Adult\", 'Adult', 'Senior']\nprocess_age(train, cut_points, label_names)\nprocess_age(test, cut_points, label_names)\n#print(list(train))\n\nagecat_pivot = train.pivot_table(index = \"Age_categories\", values = \"Survived\")\nagecat_pivot.plot.bar()\nplt.show()",
      "execution_count": null,
      "outputs": []
    },
    {
      "metadata": {
        "trusted": true,
        "_uuid": "b810c85fdf01ee1f6086b76291232001c104f94c"
      },
      "cell_type": "code",
      "source": "def create_dummies(df, column_name):\n    dummies = pd.get_dummies(df[column_name], prefix = column_name)\n    df = pd.concat([df, dummies], axis=1)\n    return df",
      "execution_count": null,
      "outputs": []
    },
    {
      "metadata": {
        "trusted": true,
        "_uuid": "ba13db06b4d7358410a900229fa5c2380fd6a5fe"
      },
      "cell_type": "code",
      "source": "train = create_dummies(train, \"Sex\")\ntrain = create_dummies(train, \"Age_categories\")\ntrain = create_dummies(train, \"Pclass\")\n\ntest = create_dummies(test, \"Sex\")\ntest = create_dummies(test, \"Age_categories\")\ntest = create_dummies(test, \"Pclass\")",
      "execution_count": null,
      "outputs": []
    },
    {
      "metadata": {
        "trusted": true,
        "_uuid": "9473958f2af1b46ec0a905ed88e15a5c6f080851",
        "scrolled": true
      },
      "cell_type": "code",
      "source": "cols = ['Sex_female', 'Sex_male', 'Age_categories_Missing', \n          'Age_categories_Infant', 'Age_categories_Child', 'Age_categories_Teenager', \n          'Age_categories_Young Adult', 'Age_categories_Adult', 'Age_categories_Senior', \n          'Pclass_1', 'Pclass_2', 'Pclass_3']\n\nall_x = train[cols]\nall_y = train['Survived']",
      "execution_count": null,
      "outputs": []
    },
    {
      "metadata": {
        "trusted": true,
        "_uuid": "05d712143f0b510f699803ecb579c9b45cc8321b"
      },
      "cell_type": "code",
      "source": "from sklearn.model_selection import train_test_split\ntrain_x, test_x, train_y, test_y = train_test_split(all_x, all_y, test_size=0.2, random_state=37)",
      "execution_count": null,
      "outputs": []
    },
    {
      "metadata": {
        "trusted": true,
        "_uuid": "6d2c2e596db4d4a556177624af184b50e2ce111c"
      },
      "cell_type": "code",
      "source": "#train function\ndef train_clf(clf, X, y):\n    clf.fit(X,y)\n    \n#predict function\ndef predict(clf, X):\n    return(clf.predict(X))",
      "execution_count": null,
      "outputs": []
    },
    {
      "metadata": {
        "trusted": true,
        "_uuid": "cc246032064e4914a9cc72aabe71ffee7cf9c900"
      },
      "cell_type": "code",
      "source": "# Initialize the models\nA = LogisticRegression()\nB = MultinomialNB(alpha=1.0,fit_prior=True)\nC = DecisionTreeClassifier(random_state=42)\nD = AdaBoostClassifier(n_estimators=100) \nE = KNeighborsClassifier(n_neighbors=1)\nF = RandomForestClassifier(n_estimators=10, max_depth=None, min_samples_split=2, random_state=0)",
      "execution_count": null,
      "outputs": []
    },
    {
      "metadata": {
        "trusted": true,
        "_uuid": "bf02c3b7bca2b87749fba4b7e0c3c39d0f6c5eb1"
      },
      "cell_type": "code",
      "source": "# loop to call function for each model\nclf = [A,B,C,D,E,F]\nobjects = ('LogRegression','Multi-NBayes', 'D-Trees', 'AdaBoost', 'K-NNeighbors', 'RandFor')\nobjs = ('LR', 'M-NB','DT','AdaB','KNN','RF')\nscore_f1 = [0,0,0,0,0,0]\nscore_accuracy = [0,0,0,0,0,0]\n\nprint(\"classifier\\t F1_Score \\t Accuracy-Score\")\nfor a in range(len(clf)):\n    train_clf(clf[a], train_x, train_y)\n    y_pred = predict(clf[a],test_x)\n    score_f1[a] = f1_score(test_y, y_pred) \n    score_accuracy[a] = accuracy_score(y_pred, test_y)\n    print(objects[a],\"\\t\", score_f1[a], \"\\t\", score_accuracy[a])",
      "execution_count": null,
      "outputs": []
    },
    {
      "metadata": {
        "trusted": true,
        "_uuid": "53909575d9492933a295b2556d94d9f56e2b95eb"
      },
      "cell_type": "code",
      "source": "#ploating data for F1 Score\ny_pos = np.arange(len(objs))\ny_val = [ x for x in score_f1]\nplt.bar(y_pos,y_val, align='center', alpha=0.7)\nplt.xticks(y_pos, objs)\nplt.ylabel('F1 Score')\nplt.title('Accuracy of Models')\nplt.show()",
      "execution_count": null,
      "outputs": []
    },
    {
      "metadata": {
        "trusted": true,
        "_uuid": "08ec40eeeb3401a5b68aaaa084315a890bbc36e9"
      },
      "cell_type": "code",
      "source": "#ploating data for Accuracy Score\ny_pos = np.arange(len(objs))\ny_val = [ x for x in score_accuracy]\nplt.bar(y_pos,y_val, align='center', alpha=0.7)\nplt.xticks(y_pos, objs)\nplt.ylabel('Accuracy Score')\nplt.title('Accuracy of Models')\nplt.show()",
      "execution_count": null,
      "outputs": []
    },
    {
      "metadata": {
        "trusted": true,
        "_uuid": "d095d39ca96be79d35156ef8a701d15f2cea0c16"
      },
      "cell_type": "code",
      "source": "",
      "execution_count": null,
      "outputs": []
    }
  ],
  "metadata": {
    "kernelspec": {
      "display_name": "Python 3",
      "language": "python",
      "name": "python3"
    },
    "language_info": {
      "name": "python",
      "version": "3.6.6",
      "mimetype": "text/x-python",
      "codemirror_mode": {
        "name": "ipython",
        "version": 3
      },
      "pygments_lexer": "ipython3",
      "nbconvert_exporter": "python",
      "file_extension": ".py"
    }
  },
  "nbformat": 4,
  "nbformat_minor": 1
}